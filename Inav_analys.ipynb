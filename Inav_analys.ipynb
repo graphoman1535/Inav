{
 "cells": [
  {
   "cell_type": "code",
   "execution_count": 1,
   "id": "1a99fcf5-f2cd-4d90-9fd6-90ee3ccc2031",
   "metadata": {},
   "outputs": [],
   "source": [
    "import numpy as np \n",
    "\n",
    "import pandas as pd\n",
    "import matplotlib.pyplot as plt\n",
    "                    "
   ]
  },
  {
   "cell_type": "code",
   "execution_count": 2,
   "id": "7afd43ef-b1e1-45a4-9b4a-c1807357af9b",
   "metadata": {},
   "outputs": [],
   "source": [
    "#добавление помех\n",
    "\n",
    "def add_error(file_path):\n",
    "    with open(file_path, 'r') as file:\n",
    "        lines = file.readlines()\n",
    "\n",
    "    with open(file_path, 'w') as file:\n",
    "        file.write(lines[0])  \n",
    "        for line in lines[1:]:\n",
    "            parts = line.split()  \n",
    "            parts[3] = f\"{float(parts[3]) + 5:.7f}\"  \n",
    "            modified_line = (\n",
    "                '     ' + parts[0] + '    ' + parts[1] + '    ' + parts[2] + '    ' + parts[3] + '   ' + parts[4] +\n",
    "                '   ' + parts[5] + '   ' + parts[6] + '  ' + parts[7] + '  ' + parts[8] + '   ' + parts[9] + '  ' + parts[10] +\n",
    "                '  ' + parts[11] + '\\n'\n",
    "            ) \n",
    "            file.write(modified_line)  # Записываем измененную строку\n",
    "None"
   ]
  },
  {
   "cell_type": "code",
   "execution_count": 3,
   "id": "94db9dfc-74e4-49c9-ac49-5de223272429",
   "metadata": {},
   "outputs": [],
   "source": [
    "import subprocess\n",
    "subprocess.run('experiments/vertical_axis/rotate_Y_period_5_amplitude_90/tt3axis.exe',stdout=subprocess.DEVNULL, stderr=subprocess.DEVNULL)\n",
    "#add_error('experiments/rotate_Y_period_5_amplitude_90/tt3axis.imu')\n",
    "subprocess.run('experiments/vertical_axis/rotate_Y_period_5_amplitude_90/ins.exe',stdout=subprocess.DEVNULL, stderr=subprocess.DEVNULL)\n",
    "\n",
    "subprocess.run('experiments/vertical_axis/rotate_Y_period_10_amplitude_90/tt3axis.exe',stdout=subprocess.DEVNULL, stderr=subprocess.DEVNULL)\n",
    "#add_error('experiments/rotate_Y_period_10_amplitude_90/tt3axis.imu')\n",
    "subprocess.run('experiments/vertical_axis/rotate_Y_period_10_amplitude_90/ins.exe',stdout=subprocess.DEVNULL, stderr=subprocess.DEVNULL)\n",
    "None\n"
   ]
  },
  {
   "cell_type": "code",
   "execution_count": 4,
   "id": "6d0d13cd-d5fb-4cce-9120-1f2f9ce1a3e0",
   "metadata": {},
   "outputs": [],
   "source": [
    "from sklearn.linear_model import LinearRegression\n",
    "from sklearn.preprocessing import PolynomialFeatures\n",
    "from scipy.special import jv #Функция Бесселя осредненная на периоде"
   ]
  },
  {
   "cell_type": "code",
   "execution_count": 5,
   "id": "9ca2b8ed-1104-403d-8abd-0d76dae6be1b",
   "metadata": {},
   "outputs": [],
   "source": [
    "class Calibration:\n",
    "    def __init__(self, fit_intercept=True,amplitude = np.pi/2, period = 5):\n",
    "        self.fit_intercept = fit_intercept\n",
    "        self.psi_a = amplitude\n",
    "        self.period = period\n",
    "    def fit(self, X, Y_v_e,Y_v_n):\n",
    "        \n",
    "        X = np.reshape(X,newshape = (-1,1))\n",
    "        poly = PolynomialFeatures(degree=3)\n",
    "        X_poly = poly.fit_transform(X)\n",
    "        X_poly = np.delete(X_poly, 0, axis = 1)\n",
    "        \n",
    "        model_v_e = LinearRegression().fit(X_poly,Y_v_e)\n",
    "        model_v_n = LinearRegression().fit(X_poly,Y_v_n)\n",
    "        self.v_e_coef = model_v_e.coef_\n",
    "        self.v_n_coef = model_v_n.coef_\n",
    "    def a_e(self,t):\n",
    "        derivative_coef = [self.v_e_coef[0], 2 * self.v_e_coef[1], 3 * self.v_e_coef[2]]\n",
    "\n",
    "        return derivative_coef[0] + t * derivative_coef[1] + (t ** 2) * derivative_coef[2] \n",
    "\n",
    "    def a_n(self,t):\n",
    "        derivative_coef = [self.v_n_coef[0], 2 * self.v_n_coef[1], 3 * self.v_n_coef[2]]\n",
    "    \n",
    "        return derivative_coef[0] + t * derivative_coef[1] + (t ** 2) * derivative_coef[2]\n",
    "\n",
    "    def c(self):\n",
    "        b = self.psi_a * jv(1, self.psi_a)\n",
    "        return 4 * b * (np.pi**2) / (self.period**2)"
   ]
  },
  {
   "cell_type": "code",
   "execution_count": 6,
   "id": "00e613ff-22d7-4352-8395-ec407acad46b",
   "metadata": {},
   "outputs": [],
   "source": [
    "imu = pd.read_csv('/home/roman/Inav/inav-ins-sample-app/experiments/vertical_axis/rotate_Y_period_5_amplitude_90/tt3axis.imu',delim_whitespace=True, header=None, skiprows=1)\n",
    "ins = pd.read_csv('/home/roman/Inav/inav-ins-sample-app/experiments/vertical_axis/rotate_Y_period_5_amplitude_90/ins.nav', delim_whitespace=True,skiprows=1)"
   ]
  },
  {
   "cell_type": "code",
   "execution_count": 7,
   "id": "d8e53da1-1404-42da-a144-3336f440a454",
   "metadata": {},
   "outputs": [
    {
     "name": "stdout",
     "output_type": "stream",
     "text": [
      "a_e2,a_n2 =  0.03522665609214096 -7.603788168420967e-05\n"
     ]
    }
   ],
   "source": [
    "#константы\n",
    "ins = pd.read_csv('experiments/vertical_axis/rotate_Y_period_5_amplitude_90/ins.nav', delim_whitespace=True,skiprows=1)\n",
    "rotate_ax = 2\n",
    "ind_start = 4000 \n",
    "ind_end = 14000 - 1\n",
    "amplitude = np.pi/2\n",
    "\n",
    "v_e = ins.iloc[ind_start:ind_end, 4].values\n",
    "v_n = ins.iloc[ind_start:ind_end, 5].values\n",
    "\n",
    "#\n",
    "clb1 = Calibration( period = 5 )\n",
    "clb1.fit(ins.iloc[ind_start:ind_end,0],v_e,v_n)\n",
    "\n",
    "a_e1 = clb1.a_e(ins.iloc[ind_start,0])\n",
    "a_n1 = clb1.a_n(ins.iloc[ind_start,0])\n",
    "\n",
    "#\n",
    "ins = pd.read_csv('experiments/vertical_axis/rotate_Y_period_10_amplitude_90/ins.nav', delim_whitespace=True,skiprows=1)\n",
    "\n",
    "v_e = ins.iloc[ind_start:ind_end, 4].values\n",
    "v_n = ins.iloc[ind_start:ind_end, 5].values\n",
    "# \n",
    "clb2 = Calibration(period = 10)\n",
    "clb2.fit(ins.iloc[ind_start:ind_end,0],v_e,v_n)\n",
    "\n",
    "a_e2 = clb2.a_e(ins.iloc[ind_start,0])\n",
    "a_n2 = clb2.a_n(ins.iloc[ind_start,0])\n",
    "print(\"a_e2,a_n2 = \",a_e2,a_n2)\n",
    "\n",
    "None"
   ]
  },
  {
   "cell_type": "code",
   "execution_count": 8,
   "id": "1afa02ae-ceb6-4070-ba0c-0f10d553de85",
   "metadata": {
    "scrolled": true
   },
   "outputs": [
    {
     "ename": "NameError",
     "evalue": "name 'mean_psi' is not defined",
     "output_type": "error",
     "traceback": [
      "\u001b[0;31m---------------------------------------------------------------------------\u001b[0m",
      "\u001b[0;31mNameError\u001b[0m                                 Traceback (most recent call last)",
      "Cell \u001b[0;32mIn[8], line 12\u001b[0m\n\u001b[1;32m      9\u001b[0m     \u001b[38;5;28mprint\u001b[39m(\u001b[38;5;124m\"\u001b[39m\u001b[38;5;124m[r_zy,r_yz] = \u001b[39m\u001b[38;5;124m\"\u001b[39m,r_zy,r_yz)\n\u001b[1;32m     11\u001b[0m \u001b[38;5;28;01mif\u001b[39;00m rotate_ax \u001b[38;5;241m==\u001b[39m \u001b[38;5;241m2\u001b[39m:\n\u001b[0;32m---> 12\u001b[0m     R_mat \u001b[38;5;241m=\u001b[39m np\u001b[38;5;241m.\u001b[39marray([[np\u001b[38;5;241m.\u001b[39mcos(\u001b[43mmean_psi\u001b[49m), \u001b[38;5;241m-\u001b[39mnp\u001b[38;5;241m.\u001b[39msin(mean_psi)],\n\u001b[1;32m     13\u001b[0m                   [np\u001b[38;5;241m.\u001b[39msin(mean_psi),  np\u001b[38;5;241m.\u001b[39mcos(mean_psi)]])\n\u001b[1;32m     15\u001b[0m     r \u001b[38;5;241m=\u001b[39m np\u001b[38;5;241m.\u001b[39mdot(R_mat, np\u001b[38;5;241m.\u001b[39marray([[a_e2 \u001b[38;5;241m-\u001b[39m a_e1],\n\u001b[1;32m     16\u001b[0m                             [a_n2 \u001b[38;5;241m-\u001b[39m a_n1]])) \u001b[38;5;241m/\u001b[39m (clb2\u001b[38;5;241m.\u001b[39mc() \u001b[38;5;241m-\u001b[39m clb1\u001b[38;5;241m.\u001b[39mc())\n\u001b[1;32m     17\u001b[0m     r_xz \u001b[38;5;241m=\u001b[39m r[\u001b[38;5;241m0\u001b[39m]\n",
      "\u001b[0;31mNameError\u001b[0m: name 'mean_psi' is not defined"
     ]
    }
   ],
   "source": [
    "\n",
    "if rotate_ax == 1:\n",
    "    R_mat = R_mat = np.array([[-np.cos(mean_psi), np.sin(mean_psi)],\n",
    "                  [-np.sin(mean_psi),  -np.cos(mean_psi)]])\n",
    "\n",
    "    r = np.dot(R_mat, np.array([[a_e2 - a_e1],\n",
    "                            [a_n2 - a_n1]])) / (clb2.c() - clb1.c())\n",
    "    r_zy = r[0]\n",
    "    r_yz = r[1]\n",
    "    print(\"[r_zy,r_yz] = \",r_zy,r_yz)\n",
    "    \n",
    "if rotate_ax == 2:\n",
    "    R_mat = np.array([[np.cos(mean_psi), -np.sin(mean_psi)],\n",
    "                  [np.sin(mean_psi),  np.cos(mean_psi)]])\n",
    "\n",
    "    r = np.dot(R_mat, np.array([[a_e2 - a_e1],\n",
    "                            [a_n2 - a_n1]])) / (clb2.c() - clb1.c())\n",
    "    r_xz = r[0]\n",
    "    r_zx = r[1]\n",
    "    print(\"[r_xz, r_zx] = \",r_xz, r_zx)\n",
    "\n",
    "if rotate_ax == 3:\n",
    "    R_mat = R_mat = np.array([[np.sin(mean_psi), -np.cos(mean_psi)],\n",
    "                  [np.cos(mean_psi),  np.sin(mean_psi)]])\n",
    "\n",
    "\n",
    "\n",
    "    r = np.dot(R_mat, np.array([[a_e2 - a_e1],\n",
    "                            [a_n2 - a_n1]])) / (clb2.c() - clb1.c())\n",
    "    r_yx = r[0]\n",
    "    r_xy = r[1]\n",
    "\n",
    "    print(\"[r_yx,r_xy] = \",r_yx,r_xy)\n",
    "    \n",
    "\n",
    "\n",
    "None"
   ]
  },
  {
   "cell_type": "code",
   "execution_count": null,
   "id": "4f09067e-2b34-4ecb-9260-c69e8c3339d3",
   "metadata": {},
   "outputs": [],
   "source": []
  },
  {
   "cell_type": "markdown",
   "id": "43ff4d21-5428-49ca-a75e-887b08489bca",
   "metadata": {},
   "source": [
    "# Визуализация"
   ]
  },
  {
   "cell_type": "code",
   "execution_count": null,
   "id": "4166cb97-64dd-41d4-aa8d-21d427d81d76",
   "metadata": {},
   "outputs": [],
   "source": [
    "fig1, axs1 = plt.subplots(3,2, figsize = (12,10))\n",
    "\n",
    "axs1[0,0].plot(imu.iloc[:,0])\n",
    "axs1[0,0].grid()\n",
    "axs1[0,0].title.set_text(\"W1\")\n",
    "\n",
    "axs1[1,0].plot(imu.iloc[:,1])\n",
    "axs1[1,0].grid()\n",
    "axs1[1,0].title.set_text(\"W2\")\n",
    "\n",
    "axs1[2,0].plot(imu.iloc[:,2])\n",
    "axs1[2,0].grid()\n",
    "axs1[2,0].title.set_text(\"W3\")\n",
    "\n",
    "#Курс, крен, тангаж\n",
    "axs1[0,1].plot(ins.iloc[:,0],ins.iloc[:,7])\n",
    "axs1[0,1].grid()\n",
    "axs1[0,1].title.set_text(\"roll\")\n",
    "\n",
    "axs1[1,1].plot(ins.iloc[:,0],ins.iloc[:,8])\n",
    "axs1[1,1].grid()\n",
    "axs1[1,1].title.set_text(\"pitch\")\n",
    "\n",
    "axs1[2,1].plot(ins.iloc[:,0], ins.iloc[:,9] )\n",
    "axs1[2,1].grid()\n",
    "axs1[2,1].title.set_text(\"heading\")\n",
    "axs1[2,1].set_ylim(-100,100)\n",
    "\n",
    "\n",
    "None"
   ]
  },
  {
   "cell_type": "code",
   "execution_count": null,
   "id": "f506c06e-44cb-42d5-818f-8b1bb91864cd",
   "metadata": {},
   "outputs": [],
   "source": [
    "fig,axs = plt.subplots(2,1, figsize = (10,8))\n",
    "axs[0].plot(ins.iloc[ind_start:ind_end, 0], v_e, label='V_E')\n",
    "#axs[0].plot(ins.iloc[ind_start:ind_end, 0], a_e(ins.iloc[ind_start:ind_end, 0].values),label = \"a_e\")\n",
    "axs[0].plot(ins.iloc[ind_start:ind_end, 0], model_v_e.predict(X_poly), label='Predicted_V_E', linestyle='--')\n",
    "axs[0].set_title('Линейная регрессия с полиномиальными признаками')\n",
    "axs[0].legend()\n",
    "axs[0].set_ylim(-1,10)\n",
    "axs[0].set_xlim(80,85)\n",
    "axs[0].grid()\n",
    "\n",
    "axs[1].plot(ins.iloc[ind_start:ind_end, 0], v_n, label='V_N')\n",
    "axs[1].plot(ins.iloc[ind_start:ind_end, 0], model_v_n.predict(X_poly), label='Predicted_V_N', linestyle='--')\n",
    "#axs[1].plot(ins.iloc[ind_start:ind_end, 0],a_n(ins.iloc[ind_start : ind_end, 0]),label = \"a_n\")\n",
    "axs[1].set_title('Линейная регрессия с полиномиальными признаками')\n",
    "axs[1].legend()\n",
    "axs[1].set_ylim(-1,1)\n",
    "axs[1].set_xlim(0,300)\n",
    "axs[1].grid()\n",
    "\n"
   ]
  },
  {
   "cell_type": "code",
   "execution_count": null,
   "id": "4b6f4c9e-b5ee-4819-b24f-331ec731684d",
   "metadata": {},
   "outputs": [],
   "source": [
    "#График скороксти V_E и V_N\n",
    "fig, axs = plt.subplots(1,1 ,figsize = (12,6))\n",
    "axs.plot(ins.iloc[:,0],ins.iloc[:,4])\n",
    "axs.plot(ins.iloc[:,0],ins.iloc[:,5])\n",
    "axs.plot(ins.iloc[:,0],ins.iloc[:,6])\n",
    "axs.plot(ins.iloc[ind_start:ind_end,0],ins.iloc[ind_start:ind_end,4],linestyle = \"dotted\",color = \"red\")\n",
    "axs.plot(ins.iloc[ind_start:ind_end,0],ins.iloc[ind_start:ind_end,5],linestyle = \"dotted\",color = \"red\")\n",
    "axs.plot(ins.iloc[ind_start:ind_end,0],ins.iloc[ind_start:ind_end,6],linestyle = \"dotted\",color = \"red\")\n",
    "\n",
    "axs.legend(['V_E','V_N','V_U'])\n",
    "\n",
    "axs.grid()\n",
    "axs.set_xlim(0,600)\n",
    "#axs.set_ylim(0,)\n",
    "\n",
    "None"
   ]
  },
  {
   "cell_type": "code",
   "execution_count": 9,
   "id": "bf23a10a-1ced-45e7-a381-c2a36acd063d",
   "metadata": {},
   "outputs": [
    {
     "data": {
      "image/png": "[encoded data removed]",
      "text/plain": [
       "<Figure size 600x1000 with 4 Axes>"
      ]
     },
     "metadata": {},
     "output_type": "display_data"
    }
   ],
   "source": [
    "\n",
    "# График показаний акселерометров \n",
    "fig, axs = plt.subplots(4,1, figsize = (6,10))\n",
    "axs[0].plot(imu.iloc[:,3],label =\"f1\")\n",
    "axs[0].plot(imu.iloc[:,4],label =\"f2\")\n",
    "axs[0].plot(imu.iloc[:,5],label =\"f3\")\n",
    "axs[0].grid()\n",
    "axs[0].legend()\n",
    "\n",
    "axs[1].plot(imu.iloc[:,3])\n",
    "axs[1].title.set_text(\"f1\")\n",
    "axs[1].grid()\n",
    "\n",
    "axs[2].plot(imu.iloc[:,4])\n",
    "axs[2].title.set_text(\"f2\")\n",
    "axs[2].grid()\n",
    "\n",
    "axs[3].plot(imu.iloc[:,5])\n",
    "axs[3].title.set_text(\"f3\")\n",
    "axs[3].grid()\n",
    "\n",
    "plt.tight_layout()\n",
    "plt.show()\n"
   ]
  },
  {
   "cell_type": "markdown",
   "id": "38eafb8f-c152-4c44-b1b8-4269fad87261",
   "metadata": {},
   "source": [
    "# Оценка разнесений для реального БИНС"
   ]
  },
  {
   "cell_type": "code",
   "execution_count": 10,
   "id": "1e972e97-6834-4dbf-88ae-ab34d62535a2",
   "metadata": {},
   "outputs": [],
   "source": [
    "import numpy as np \n",
    "import pandas as pd\n",
    "import matplotlib.pyplot as plt\n",
    "                    "
   ]
  },
  {
   "cell_type": "code",
   "execution_count": 11,
   "id": "1ae868ea-2a89-4ffe-822a-f9d8de7db952",
   "metadata": {},
   "outputs": [],
   "source": [
    "\n",
    "#Config----\n",
    "Amplitude = 90 #degree \n",
    "period = 60    #s\n",
    "const_time = 10#s сумарное время стояния\n",
    "accel_time = 2 #s сумарное время разгона\n",
    "Om_0 = 5       # degree/s  \n",
    "Eps = 10       # degree/s^2\n",
    "\n",
    "\n",
    "\n",
    "G = np.array([[1, 2, 3],\n",
    "     [6, 1, 4],\n",
    "     [7, 2, 5]])\n",
    "\n",
    "U, S, V = np.linalg.svd(G)\n",
    "G = U\n",
    "\n",
    "P_k =np.array([[1, 0, 0],\n",
    "               [0, 1, 0],\n",
    "               [0, 0, 1]]) \n",
    "\n",
    "z = np.random.rand(3,1)*100\n",
    "\n",
    "#----------\n"
   ]
  },
  {
   "cell_type": "code",
   "execution_count": 12,
   "id": "3a316341-c3c4-4ced-93d8-9daeed97618e",
   "metadata": {},
   "outputs": [
    {
     "name": "stdout",
     "output_type": "stream",
     "text": [
      "[[  0.8185168 ]\n",
      " [-42.02054249]\n",
      " [-50.54832136]\n",
      " [ 34.02149969]\n",
      " [-46.58089791]\n",
      " [  9.9459849 ]]\n"
     ]
    }
   ],
   "source": [
    "def Q_i(P_k,g_i):\n",
    "    A = np.dot(P_k.T, g_i)\n",
    "    return np.dot(A,A.T)\n",
    "\n",
    "\n",
    "K = np.zeros((3,3,3))\n",
    "F = np.dot(P_k.T,G.T)\n",
    "for i in range(3):\n",
    "    g_i = (G[i,:])\n",
    "    g_i = g_i.reshape(-1, 1)\n",
    "    Q = Q_i(P_k,g_i)\n",
    "    A1 = np.array([[0,   0     ,  0     ],\n",
    "                   [ 0, -Q[2,2],  Q[2,1]],\n",
    "                   [ 0,  Q[1,2], -Q[1,1]] ]) \n",
    "    A1[1:3] = A1[1:3]*4*np.sin(Amplitude)*Om_0/period\n",
    "\n",
    "    A2 = np.array([[0, -Q[0,1], -Q[0,2] ],\n",
    "                   [0, -Q[1,1], -Q[1,2] ],\n",
    "                   [0, -Q[2,1], -Q[2,2] ] ])\n",
    "    A2[0] = A2[0] * (Om_0**2) * (period - const_time) / period\n",
    "    A2[1:3] =  A2[1:3] * (Om_0**2) * accel_time * np.cos(Amplitude) / period\n",
    "    K[i,:,:] = np.dot(A1 + A2, F)    \n",
    "\n",
    "\n",
    "\n",
    "H = np.concatenate((K[0, :, 1].reshape(-1, 1),\n",
    "                     K[0, :, 2].reshape(-1, 1),\n",
    "                     K[1, :, 0].reshape(-1, 1),\n",
    "                     K[1, :, 2].reshape(-1, 1),\n",
    "                     K[2, :, 0].reshape(-1, 1),\n",
    "                     K[2, :, 1].reshape(-1, 1)), axis=1)\n",
    "\n",
    "\n",
    "inv = np.linalg.pinv(H)\n",
    "\n",
    "x =np.dot(inv,z)  \n",
    "\n",
    "print(x)\n",
    "\n",
    "#[r_xy, r_xz, r_yx, r_yz, r_xz, r_zy]"
   ]
  },
  {
   "cell_type": "code",
   "execution_count": 13,
   "id": "12092665-e682-4771-b2f4-afadeb7808b1",
   "metadata": {},
   "outputs": [
    {
     "name": "stdout",
     "output_type": "stream",
     "text": [
      "[1 1]\n",
      "[1 1]\n"
     ]
    }
   ],
   "source": [
    "a = np.array([1,1])\n",
    "print(a)\n",
    "a.reshape(-1, 1)\n",
    "print(a)"
   ]
  },
  {
   "cell_type": "code",
   "execution_count": 14,
   "id": "b3618934-beae-4841-bf5b-73802962be94",
   "metadata": {},
   "outputs": [
    {
     "name": "stdout",
     "output_type": "stream",
     "text": [
      "[1 2 1 1 2 3]\n"
     ]
    }
   ],
   "source": [
    "a = np.array([1,2])\n",
    "b = np.array([1,1])\n",
    "c = np.array([2,3])\n",
    "\n",
    "print(np.concatenate((a,b,c),axis = -1))"
   ]
  },
  {
   "cell_type": "code",
   "execution_count": 15,
   "id": "8c34d408-c1f6-4548-bfcd-0aaf6254d38a",
   "metadata": {},
   "outputs": [],
   "source": [
    "from scipy.special import jv"
   ]
  },
  {
   "cell_type": "code",
   "execution_count": 16,
   "id": "7ca537e1-c44c-4ff8-a636-af1f624a37b7",
   "metadata": {},
   "outputs": [
    {
     "data": {
      "text/plain": [
       "0.5229414816329464"
      ]
     },
     "execution_count": 16,
     "metadata": {},
     "output_type": "execute_result"
    }
   ],
   "source": [
    "jv(1,2.387)"
   ]
  },
  {
   "cell_type": "markdown",
   "id": "c6438bba-25e5-4ff8-a5f2-0524601feced",
   "metadata": {
    "scrolled": true
   },
   "source": [
    "## Горизонтальная ось вращения"
   ]
  },
  {
   "cell_type": "code",
   "execution_count": 36,
   "id": "c9acedff-4918-43ac-94a1-aa71820bc689",
   "metadata": {},
   "outputs": [],
   "source": [
    "import subprocess\n",
    "subprocess.run('experiments/gorizontal_axis/uniform_rotate_Z_amplitude_90_T_35/tt3axis.exe',stdout=subprocess.DEVNULL, stderr=subprocess.DEVNULL)\n",
    "#add_error('experiments/rotate_Y_period_5_amplitude_90/tt3axis.imu')\n",
    "subprocess.run('experiments/gorizontal_axis/uniform_rotate_Z_amplitude_90_T_35/ins.exe',stdout=subprocess.DEVNULL, stderr=subprocess.DEVNULL)\n",
    "\n",
    "subprocess.run('experiments/gorizontal_axis/uniform_rotate_Z_amplitude_90_T_45/tt3axis.exe',stdout=subprocess.DEVNULL, stderr=subprocess.DEVNULL)\n",
    "#add_error('experiments/rotate_Y_period_10_amplitude_90/tt3axis.imu')\n",
    "subprocess.run('experiments/gorizontal_axis/uniform_rotate_Z_amplitude_90_T_45/ins.exe',stdout=subprocess.DEVNULL, stderr=subprocess.DEVNULL)\n",
    "None\n"
   ]
  },
  {
   "cell_type": "code",
   "execution_count": 37,
   "id": "1f9ac012-2a8b-4836-977f-10e22a52d105",
   "metadata": {},
   "outputs": [],
   "source": [
    "class Calibration_gorizontal:\n",
    "    def __init__(self, fit_intercept=True,amplitude = np.pi/2, period = 5):\n",
    "        self.fit_intercept = fit_intercept\n",
    "        self.psi_a = amplitude\n",
    "        self.period = period\n",
    "    def fit(self, X, Y_v_1,Y_v_3):\n",
    "        \n",
    "        X = np.reshape(X,newshape = (-1,1))\n",
    "        poly = PolynomialFeatures(degree=3)\n",
    "        X_poly = poly.fit_transform(X)\n",
    "        X_poly = np.delete(X_poly, 0, axis = 1)\n",
    "        \n",
    "        model_v_1 = LinearRegression().fit(X_poly,Y_v_1)\n",
    "        model_v_3 = LinearRegression().fit(X_poly,Y_v_3)\n",
    "        self.v_1_coef = model_v_1.coef_\n",
    "        self.v_3_coef = model_v_3.coef_\n",
    "    def a_1(self,t):\n",
    "        derivative_coef = [self.v_1_coef[0], 2 * self.v_1_coef[1], 3 * self.v_1_coef[2]]\n",
    "\n",
    "        return derivative_coef[0] + t * derivative_coef[1] + (t ** 2) * derivative_coef[2] \n",
    "\n",
    "    def a_3(self,t):\n",
    "        derivative_coef = [self.v_3_coef[0], 2 * self.v_3_coef[1], 3 * self.v_3_coef[2]]\n",
    "    \n",
    "        return derivative_coef[0] + t * derivative_coef[1] + (t ** 2) * derivative_coef[2]\n",
    "\n",
    "    def c(self):\n",
    "        return 16 * self.psi_a * np.sin(self.psi_a) / (self.period**2)"
   ]
  },
  {
   "cell_type": "code",
   "execution_count": 44,
   "id": "bbf5d2d8-9092-48fd-b778-b5b3fbba2fff",
   "metadata": {},
   "outputs": [
    {
     "name": "stdout",
     "output_type": "stream",
     "text": [
      "a_e2,a_n2 =  0.03522665609214096 -7.603788168420967e-05\n"
     ]
    }
   ],
   "source": [
    "#константы\n",
    "ins = pd.read_csv('experiments/gorizontal_axis/uniform_rotate_Z_amplitude_90_T_35/ins.nav', delim_whitespace=True,skiprows=1)\n",
    "rotate_ax = 1\n",
    "ind_start = 4000 \n",
    "ind_end = 14000 - 1\n",
    "amplitude = np.pi/2\n",
    "\n",
    "v_1 = ins.iloc[ind_start:ind_end, 4].values\n",
    "v_3 = ins.iloc[ind_start:ind_end, 6].values\n",
    "\n",
    "#\n",
    "clb1 = Calibration_gorizontal( period = 35 )\n",
    "clb1.fit(ins.iloc[ind_start:ind_end,0],v_1,v_3)\n",
    "\n",
    "a_perpend1 = clb1.a_1(ins.iloc[ind_start,0])\n",
    "a_vertical1 = clb1.a_3(ins.iloc[ind_start,0])\n",
    "\n",
    "#\n",
    "ins = pd.read_csv('experiments/gorizontal_axis/uniform_rotate_Z_amplitude_90_T_45/ins.nav', delim_whitespace=True,skiprows=1)\n",
    "\n",
    "v_1 = ins.iloc[ind_start:ind_end, 4].values\n",
    "v_3 = ins.iloc[ind_start:ind_end, 6].values\n",
    "# \n",
    "clb2 = Calibration_gorizontal(period = 45)\n",
    "clb2.fit(ins.iloc[ind_start:ind_end,0],v_1,v_3)\n",
    "\n",
    "a_perpend2 = clb2.a_1(ins.iloc[ind_start,0])\n",
    "a_vertical2 = clb2.a_3(ins.iloc[ind_start,0])\n",
    "print(\"a_e2,a_n2 = \",a_e2,a_n2)\n",
    "\n",
    "None"
   ]
  },
  {
   "cell_type": "code",
   "execution_count": 43,
   "id": "15cb1f27-a758-49e5-9016-d16660c2d9bf",
   "metadata": {},
   "outputs": [
    {
     "name": "stdout",
     "output_type": "stream",
     "text": [
      "[r_zy,r_yz] =  [-0.42201678] [-2.58410749e-17]\n"
     ]
    }
   ],
   "source": [
    "mean_psi = np.pi/2;\n",
    "if rotate_ax == 1:\n",
    "    #первая и вторая строчка поменяны местами \n",
    "    R_mat = np.array([[-np.sin(mean_psi),  -np.cos(mean_psi)],\n",
    "                        [-np.cos(mean_psi), np.sin(mean_psi)]])\n",
    "    \n",
    "\n",
    "    r = np.dot(R_mat, np.array([[a_vertical2 - a_vertical1],\n",
    "                            [a_perpend2 - a_perpend1]])) / (clb2.c() - clb1.c())\n",
    "    r_zy = r[0]\n",
    "    r_yz = r[1]\n",
    "    print(\"[r_zy,r_yz] = \",r_zy,r_yz)\n",
    "    \n",
    "if rotate_ax == 2:\n",
    "    R_mat = np.array([[np.sin(mean_psi),  np.cos(mean_psi)],\n",
    "                       [np.cos(mean_psi), -np.sin(mean_psi)]])\n",
    "\n",
    "    r = np.dot(R_mat, np.array([[a_vertical2 - a_vertical1],\n",
    "                            [a_perpend2 - a_perpend1]])) / (clb2.c() - clb1.c())\n",
    "    r_xz = r[0]\n",
    "    r_zx = r[1]\n",
    "    print(\"[r_xz, r_zx] = \",r_xz, r_zx)\n",
    "\n",
    "if rotate_ax == 3:\n",
    "    R_mat = R_mat = np.array([[np.sin(mean_psi), -np.cos(mean_psi)],\n",
    "                  [np.cos(mean_psi),  np.sin(mean_psi)]])\n",
    "\n",
    "    r = np.dot(R_mat, np.array([[a_vertical2 - a_vertical1],\n",
    "                            [a_perpend2 - a_perpend1]])) / (clb2.c() - clb1.c())\n",
    "    \n",
    "    r_yx = r[0]\n",
    "    r_xy = r[1]\n",
    "\n",
    "    print(\"[r_yx,r_xy] = \",r_yx,r_xy)\n",
    "    \n",
    "\n",
    "\n",
    "None"
   ]
  },
  {
   "cell_type": "code",
   "execution_count": null,
   "id": "71d09d10-3225-4dd1-b7c5-a2d8cad410bb",
   "metadata": {},
   "outputs": [],
   "source": []
  },
  {
   "cell_type": "code",
   "execution_count": null,
   "id": "46d6756d-4935-45ec-985a-ca30506e47a1",
   "metadata": {},
   "outputs": [],
   "source": []
  }
 ],
 "metadata": {
  "kernelspec": {
   "display_name": "Python 3 (ipykernel)",
   "language": "python",
   "name": "python3"
  },
  "language_info": {
   "codemirror_mode": {
    "name": "ipython",
    "version": 3
   },
   "file_extension": ".py",
   "mimetype": "text/x-python",
   "name": "python",
   "nbconvert_exporter": "python",
   "pygments_lexer": "ipython3",
   "version": "3.8.19"
  }
 },
 "nbformat": 4,
 "nbformat_minor": 5
}
